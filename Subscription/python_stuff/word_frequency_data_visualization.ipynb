{
 "cells": [
  {
   "cell_type": "code",
   "execution_count": null,
   "metadata": {},
   "outputs": [],
   "source": []
  },
  {
   "cell_type": "code",
   "execution_count": 9,
   "metadata": {},
   "outputs": [
    {
     "ename": "AttributeError",
     "evalue": "'float' object has no attribute 'split'",
     "output_type": "error",
     "traceback": [
      "\u001b[0;31m---------------------------------------------------------------------------\u001b[0m",
      "\u001b[0;31mAttributeError\u001b[0m                            Traceback (most recent call last)",
      "\u001b[0;32m<ipython-input-9-b57a23044bb0>\u001b[0m in \u001b[0;36m<module>\u001b[0;34m()\u001b[0m\n\u001b[1;32m     23\u001b[0m \u001b[0;34m\u001b[0m\u001b[0m\n\u001b[1;32m     24\u001b[0m \u001b[0;32mfor\u001b[0m \u001b[0mword\u001b[0m \u001b[0;32min\u001b[0m \u001b[0mreview_data\u001b[0m\u001b[0;34m[\u001b[0m\u001b[0;34m'SUBJ_TEXT'\u001b[0m\u001b[0;34m]\u001b[0m\u001b[0;34m:\u001b[0m\u001b[0;34m\u001b[0m\u001b[0m\n\u001b[0;32m---> 25\u001b[0;31m     \u001b[0mwords\u001b[0m\u001b[0;34m.\u001b[0m\u001b[0mextend\u001b[0m\u001b[0;34m(\u001b[0m\u001b[0mword\u001b[0m\u001b[0;34m.\u001b[0m\u001b[0msplit\u001b[0m\u001b[0;34m(\u001b[0m\u001b[0;34m\" \"\u001b[0m\u001b[0;34m)\u001b[0m\u001b[0;34m)\u001b[0m\u001b[0;34m\u001b[0m\u001b[0m\n\u001b[0m\u001b[1;32m     26\u001b[0m \u001b[0;34m\u001b[0m\u001b[0m\n\u001b[1;32m     27\u001b[0m \u001b[0;31m#Clean the text\u001b[0m\u001b[0;34m\u001b[0m\u001b[0;34m\u001b[0m\u001b[0m\n",
      "\u001b[0;31mAttributeError\u001b[0m: 'float' object has no attribute 'split'"
     ]
    }
   ],
   "source": [
    "from __future__ import print_function, division\n",
    "\n",
    "%matplotlib inline\n",
    "import matplotlib.pyplot as plt\n",
    "import numpy as np\n",
    "import pandas as pd\n",
    "import seaborn as sns\n",
    "import operator\n",
    "import string\n",
    "\n",
    "sns.set()\n",
    "\n",
    "#Import data from the file into a SERIES OF LISTS?\n",
    "review_data = pd.read_csv('Update_Case_Data_V2.csv')\n",
    "\n",
    "\n",
    "review_data['word_count']=review_data['SUBJ_TEXT'].apply(lambda x: len(str(x).split(\" \")))\n",
    "\n",
    "\n",
    "words=[]\n",
    "\n",
    "word_freq={}\n",
    "\n",
    "for word in review_data['SUBJ_TEXT']:\n",
    "    words.extend(word.split(\" \"))\n",
    "\n",
    "#Clean the text\n",
    "things_to_remove=string.punctuation\n",
    "table = str.maketrans('', '', things_to_remove)\n",
    "cleaned_words = [w.translate(table) for w in words]\n",
    "cleaned_words = [word.lower() for word in cleaned_words]\n",
    "#print(cleaned_words)\n",
    "\n",
    "#Count how many of each label\n",
    "counters={}\n",
    "for index, row in clean_data.iterrows():\n",
    "#    counters[row['LABEL']]\n",
    "    counters[row['LABEL']]=0\n",
    "\n",
    "for index, row in clean_data.iterrows():\n",
    "#    counters[row['LABEL']]\n",
    "    counters[row['LABEL']]+=1;\n",
    "\n",
    "\n",
    "complex_words=[]\n",
    "for word in cleaned_words[:]:\n",
    "    if(len(word)>4 and word!=''):\n",
    "        complex_words.append(word)\n",
    "        if word in word_freq:\n",
    "            word_freq[word]+=1;\n",
    "        else:\n",
    "            word_freq[word]=1;\n",
    "\n",
    "#print(word_freq)\n",
    "#print(max(word_freq.items(), key=operator.itemgetter(1))[0])\n",
    "\n",
    "#Create a new list of lists sorted by word frequency\n",
    "sorted_by_value =sorted(word_freq.items(), key=lambda kv: kv[1])\n",
    "\n",
    "\n",
    "\n",
    "\n",
    "#remove item if number of reports under 3\n",
    "\n",
    "word_freq_cleaned={}\n",
    "\n",
    "for key in word_freq:\n",
    "    for word in complex_words:\n",
    "        if key == word and word_freq[key]>500:\n",
    "            word_freq_cleaned.update({key:word_freq[key]})\n",
    "\n",
    "#create list of all cleaned words\n",
    "list_of_keys=[]\n",
    "\n",
    "for key in word_freq_cleaned:\n",
    "    list_of_keys.append(key)\n",
    "\n",
    "#create list of all frequency\n",
    "list_of_freq=[]\n",
    "for key in word_freq_cleaned:\n",
    "    list_of_freq.append(word_freq[key])\n",
    "\n",
    "#print(list_of_freq)\n",
    "\n",
    "\n",
    "df=pd.DataFrame(list_of_freq,index=list_of_keys,columns=['Word Frequency'])\n",
    "df=df.sort_values(by='Word Frequency')\n",
    "print(df)\n",
    "\n",
    "\n",
    "\n",
    "df.plot.bar()"
   ]
  },
  {
   "cell_type": "code",
   "execution_count": null,
   "metadata": {},
   "outputs": [],
   "source": []
  },
  {
   "cell_type": "code",
   "execution_count": null,
   "metadata": {},
   "outputs": [],
   "source": []
  },
  {
   "cell_type": "code",
   "execution_count": null,
   "metadata": {},
   "outputs": [],
   "source": []
  },
  {
   "cell_type": "code",
   "execution_count": null,
   "metadata": {},
   "outputs": [],
   "source": []
  },
  {
   "cell_type": "code",
   "execution_count": null,
   "metadata": {},
   "outputs": [],
   "source": []
  }
 ],
 "metadata": {
  "kernelspec": {
   "display_name": "Python 3",
   "language": "python",
   "name": "python3"
  },
  "language_info": {
   "codemirror_mode": {
    "name": "ipython",
    "version": 3
   },
   "file_extension": ".py",
   "mimetype": "text/x-python",
   "name": "python",
   "nbconvert_exporter": "python",
   "pygments_lexer": "ipython3",
   "version": "3.6.5"
  }
 },
 "nbformat": 4,
 "nbformat_minor": 2
}
